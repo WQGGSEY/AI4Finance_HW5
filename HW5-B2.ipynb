{
 "cells": [
  {
   "cell_type": "code",
   "execution_count": 6,
   "metadata": {},
   "outputs": [
    {
     "name": "stdout",
     "output_type": "stream",
     "text": [
      "\n",
      "────────────────────────────────────────────────────────────\n",
      "Scenario Mean Return Matrix (annual)\n",
      "────────────────────────────────────────────────────────────\n"
     ]
    },
    {
     "data": {
      "application/vnd.microsoft.datawrangler.viewer.v0+json": {
       "columns": [
        {
         "name": "index",
         "rawType": "object",
         "type": "string"
        },
        {
         "name": "Stocks",
         "rawType": "float64",
         "type": "float"
        },
        {
         "name": "Bonds",
         "rawType": "float64",
         "type": "float"
        },
        {
         "name": "Commodities",
         "rawType": "float64",
         "type": "float"
        },
        {
         "name": "Cash",
         "rawType": "float64",
         "type": "float"
        }
       ],
       "conversionMethod": "pd.DataFrame",
       "ref": "1d0c13c2-7700-408f-94e1-37efdbc3af33",
       "rows": [
        [
         "(+1,+1,+1)",
         "0.057999999999999996",
         "0.07",
         "0.133",
         "0.001"
        ],
        [
         "(+1,+1,-1)",
         "0.057999999999999996",
         "0.07",
         "0.093",
         "0.001"
        ],
        [
         "(+1,-1,+1)",
         "0.057999999999999996",
         "0.030000000000000002",
         "0.133",
         "0.001"
        ],
        [
         "(+1,-1,-1)",
         "0.057999999999999996",
         "0.030000000000000002",
         "0.093",
         "0.001"
        ],
        [
         "(-1,+1,+1)",
         "0.018",
         "0.07",
         "0.133",
         "0.001"
        ],
        [
         "(-1,+1,-1)",
         "0.018",
         "0.07",
         "0.093",
         "0.001"
        ],
        [
         "(-1,-1,+1)",
         "0.018",
         "0.030000000000000002",
         "0.133",
         "0.001"
        ],
        [
         "(-1,-1,-1)",
         "0.018",
         "0.030000000000000002",
         "0.093",
         "0.001"
        ]
       ],
       "shape": {
        "columns": 4,
        "rows": 8
       }
      },
      "text/html": [
       "<div>\n",
       "<style scoped>\n",
       "    .dataframe tbody tr th:only-of-type {\n",
       "        vertical-align: middle;\n",
       "    }\n",
       "\n",
       "    .dataframe tbody tr th {\n",
       "        vertical-align: top;\n",
       "    }\n",
       "\n",
       "    .dataframe thead th {\n",
       "        text-align: right;\n",
       "    }\n",
       "</style>\n",
       "<table border=\"1\" class=\"dataframe\">\n",
       "  <thead>\n",
       "    <tr style=\"text-align: right;\">\n",
       "      <th></th>\n",
       "      <th>Stocks</th>\n",
       "      <th>Bonds</th>\n",
       "      <th>Commodities</th>\n",
       "      <th>Cash</th>\n",
       "    </tr>\n",
       "  </thead>\n",
       "  <tbody>\n",
       "    <tr>\n",
       "      <th>(+1,+1,+1)</th>\n",
       "      <td>0.058</td>\n",
       "      <td>0.07</td>\n",
       "      <td>0.133</td>\n",
       "      <td>0.001</td>\n",
       "    </tr>\n",
       "    <tr>\n",
       "      <th>(+1,+1,-1)</th>\n",
       "      <td>0.058</td>\n",
       "      <td>0.07</td>\n",
       "      <td>0.093</td>\n",
       "      <td>0.001</td>\n",
       "    </tr>\n",
       "    <tr>\n",
       "      <th>(+1,-1,+1)</th>\n",
       "      <td>0.058</td>\n",
       "      <td>0.03</td>\n",
       "      <td>0.133</td>\n",
       "      <td>0.001</td>\n",
       "    </tr>\n",
       "    <tr>\n",
       "      <th>(+1,-1,-1)</th>\n",
       "      <td>0.058</td>\n",
       "      <td>0.03</td>\n",
       "      <td>0.093</td>\n",
       "      <td>0.001</td>\n",
       "    </tr>\n",
       "    <tr>\n",
       "      <th>(-1,+1,+1)</th>\n",
       "      <td>0.018</td>\n",
       "      <td>0.07</td>\n",
       "      <td>0.133</td>\n",
       "      <td>0.001</td>\n",
       "    </tr>\n",
       "    <tr>\n",
       "      <th>(-1,+1,-1)</th>\n",
       "      <td>0.018</td>\n",
       "      <td>0.07</td>\n",
       "      <td>0.093</td>\n",
       "      <td>0.001</td>\n",
       "    </tr>\n",
       "    <tr>\n",
       "      <th>(-1,-1,+1)</th>\n",
       "      <td>0.018</td>\n",
       "      <td>0.03</td>\n",
       "      <td>0.133</td>\n",
       "      <td>0.001</td>\n",
       "    </tr>\n",
       "    <tr>\n",
       "      <th>(-1,-1,-1)</th>\n",
       "      <td>0.018</td>\n",
       "      <td>0.03</td>\n",
       "      <td>0.093</td>\n",
       "      <td>0.001</td>\n",
       "    </tr>\n",
       "  </tbody>\n",
       "</table>\n",
       "</div>"
      ],
      "text/plain": [
       "            Stocks  Bonds  Commodities   Cash\n",
       "(+1,+1,+1)   0.058   0.07        0.133  0.001\n",
       "(+1,+1,-1)   0.058   0.07        0.093  0.001\n",
       "(+1,-1,+1)   0.058   0.03        0.133  0.001\n",
       "(+1,-1,-1)   0.058   0.03        0.093  0.001\n",
       "(-1,+1,+1)   0.018   0.07        0.133  0.001\n",
       "(-1,+1,-1)   0.018   0.07        0.093  0.001\n",
       "(-1,-1,+1)   0.018   0.03        0.133  0.001\n",
       "(-1,-1,-1)   0.018   0.03        0.093  0.001"
      ]
     },
     "metadata": {},
     "output_type": "display_data"
    },
    {
     "name": "stdout",
     "output_type": "stream",
     "text": [
      "\n",
      "────────────────────────────────────────────────────────────\n",
      "Simulated 10‑Year Annual Returns (sample)\n",
      "────────────────────────────────────────────────────────────\n"
     ]
    },
    {
     "data": {
      "application/vnd.microsoft.datawrangler.viewer.v0+json": {
       "columns": [
        {
         "name": "index",
         "rawType": "int64",
         "type": "integer"
        },
        {
         "name": "Stocks",
         "rawType": "float64",
         "type": "float"
        },
        {
         "name": "Bonds",
         "rawType": "float64",
         "type": "float"
        },
        {
         "name": "Commodities",
         "rawType": "float64",
         "type": "float"
        },
        {
         "name": "Cash",
         "rawType": "float64",
         "type": "float"
        }
       ],
       "conversionMethod": "pd.DataFrame",
       "ref": "dc56e2ef-30c8-4922-8b54-470fea3343a6",
       "rows": [
        [
         "0",
         "0.009995283489321341",
         "-0.014193888714075426",
         "-0.04378339537956494",
         "0.04102392857291269"
        ],
        [
         "1",
         "0.10980309624328796",
         "-0.21769261342239365",
         "0.13665264063316626",
         "0.014666425827901244"
        ],
        [
         "2",
         "0.004559973928656112",
         "0.1277519595848831",
         "0.33938821123375257",
         "-0.01551192878782337"
        ],
        [
         "3",
         "0.5004069008176912",
         "0.3586741902636998",
         "-0.09226497104133857",
         "0.020873757725275242"
        ],
        [
         "4",
         "0.13789324537254005",
         "0.16966828036263676",
         "0.4867142049537596",
         "-0.03610000506207592"
        ]
       ],
       "shape": {
        "columns": 4,
        "rows": 5
       }
      },
      "text/html": [
       "<div>\n",
       "<style scoped>\n",
       "    .dataframe tbody tr th:only-of-type {\n",
       "        vertical-align: middle;\n",
       "    }\n",
       "\n",
       "    .dataframe tbody tr th {\n",
       "        vertical-align: top;\n",
       "    }\n",
       "\n",
       "    .dataframe thead th {\n",
       "        text-align: right;\n",
       "    }\n",
       "</style>\n",
       "<table border=\"1\" class=\"dataframe\">\n",
       "  <thead>\n",
       "    <tr style=\"text-align: right;\">\n",
       "      <th></th>\n",
       "      <th>Stocks</th>\n",
       "      <th>Bonds</th>\n",
       "      <th>Commodities</th>\n",
       "      <th>Cash</th>\n",
       "    </tr>\n",
       "  </thead>\n",
       "  <tbody>\n",
       "    <tr>\n",
       "      <th>0</th>\n",
       "      <td>0.009995</td>\n",
       "      <td>-0.014194</td>\n",
       "      <td>-0.043783</td>\n",
       "      <td>0.041024</td>\n",
       "    </tr>\n",
       "    <tr>\n",
       "      <th>1</th>\n",
       "      <td>0.109803</td>\n",
       "      <td>-0.217693</td>\n",
       "      <td>0.136653</td>\n",
       "      <td>0.014666</td>\n",
       "    </tr>\n",
       "    <tr>\n",
       "      <th>2</th>\n",
       "      <td>0.004560</td>\n",
       "      <td>0.127752</td>\n",
       "      <td>0.339388</td>\n",
       "      <td>-0.015512</td>\n",
       "    </tr>\n",
       "    <tr>\n",
       "      <th>3</th>\n",
       "      <td>0.500407</td>\n",
       "      <td>0.358674</td>\n",
       "      <td>-0.092265</td>\n",
       "      <td>0.020874</td>\n",
       "    </tr>\n",
       "    <tr>\n",
       "      <th>4</th>\n",
       "      <td>0.137893</td>\n",
       "      <td>0.169668</td>\n",
       "      <td>0.486714</td>\n",
       "      <td>-0.036100</td>\n",
       "    </tr>\n",
       "  </tbody>\n",
       "</table>\n",
       "</div>"
      ],
      "text/plain": [
       "     Stocks     Bonds  Commodities      Cash\n",
       "0  0.009995 -0.014194    -0.043783  0.041024\n",
       "1  0.109803 -0.217693     0.136653  0.014666\n",
       "2  0.004560  0.127752     0.339388 -0.015512\n",
       "3  0.500407  0.358674    -0.092265  0.020874\n",
       "4  0.137893  0.169668     0.486714 -0.036100"
      ]
     },
     "metadata": {},
     "output_type": "display_data"
    },
    {
     "name": "stdout",
     "output_type": "stream",
     "text": [
      "\n",
      "────────────────────────────────────────────────────────────\n",
      "Posterior Probabilities π₁₀(s)\n",
      "────────────────────────────────────────────────────────────\n"
     ]
    },
    {
     "data": {
      "application/vnd.microsoft.datawrangler.viewer.v0+json": {
       "columns": [
        {
         "name": "index",
         "rawType": "int64",
         "type": "integer"
        },
        {
         "name": "Scenario",
         "rawType": "object",
         "type": "string"
        },
        {
         "name": "π10",
         "rawType": "float64",
         "type": "float"
        }
       ],
       "conversionMethod": "pd.DataFrame",
       "ref": "30ad05c1-eaef-434f-8dae-8e579784826b",
       "rows": [
        [
         "0",
         "(+1,+1,+1)",
         "0.25157400608481445"
        ],
        [
         "1",
         "(+1,+1,-1)",
         "0.2721575825043234"
        ],
        [
         "2",
         "(+1,-1,+1)",
         "0.09892228547997277"
        ],
        [
         "3",
         "(+1,-1,-1)",
         "0.1020652088984073"
        ],
        [
         "4",
         "(-1,+1,+1)",
         "0.09523775078104578"
        ],
        [
         "5",
         "(-1,+1,-1)",
         "0.10776741892396192"
        ],
        [
         "6",
         "(-1,-1,+1)",
         "0.0347611038053062"
        ],
        [
         "7",
         "(-1,-1,-1)",
         "0.03751464352216817"
        ]
       ],
       "shape": {
        "columns": 2,
        "rows": 8
       }
      },
      "text/html": [
       "<div>\n",
       "<style scoped>\n",
       "    .dataframe tbody tr th:only-of-type {\n",
       "        vertical-align: middle;\n",
       "    }\n",
       "\n",
       "    .dataframe tbody tr th {\n",
       "        vertical-align: top;\n",
       "    }\n",
       "\n",
       "    .dataframe thead th {\n",
       "        text-align: right;\n",
       "    }\n",
       "</style>\n",
       "<table border=\"1\" class=\"dataframe\">\n",
       "  <thead>\n",
       "    <tr style=\"text-align: right;\">\n",
       "      <th></th>\n",
       "      <th>Scenario</th>\n",
       "      <th>π10</th>\n",
       "    </tr>\n",
       "  </thead>\n",
       "  <tbody>\n",
       "    <tr>\n",
       "      <th>0</th>\n",
       "      <td>(+1,+1,+1)</td>\n",
       "      <td>0.251574</td>\n",
       "    </tr>\n",
       "    <tr>\n",
       "      <th>1</th>\n",
       "      <td>(+1,+1,-1)</td>\n",
       "      <td>0.272158</td>\n",
       "    </tr>\n",
       "    <tr>\n",
       "      <th>2</th>\n",
       "      <td>(+1,-1,+1)</td>\n",
       "      <td>0.098922</td>\n",
       "    </tr>\n",
       "    <tr>\n",
       "      <th>3</th>\n",
       "      <td>(+1,-1,-1)</td>\n",
       "      <td>0.102065</td>\n",
       "    </tr>\n",
       "    <tr>\n",
       "      <th>4</th>\n",
       "      <td>(-1,+1,+1)</td>\n",
       "      <td>0.095238</td>\n",
       "    </tr>\n",
       "    <tr>\n",
       "      <th>5</th>\n",
       "      <td>(-1,+1,-1)</td>\n",
       "      <td>0.107767</td>\n",
       "    </tr>\n",
       "    <tr>\n",
       "      <th>6</th>\n",
       "      <td>(-1,-1,+1)</td>\n",
       "      <td>0.034761</td>\n",
       "    </tr>\n",
       "    <tr>\n",
       "      <th>7</th>\n",
       "      <td>(-1,-1,-1)</td>\n",
       "      <td>0.037515</td>\n",
       "    </tr>\n",
       "  </tbody>\n",
       "</table>\n",
       "</div>"
      ],
      "text/plain": [
       "     Scenario       π10\n",
       "0  (+1,+1,+1)  0.251574\n",
       "1  (+1,+1,-1)  0.272158\n",
       "2  (+1,-1,+1)  0.098922\n",
       "3  (+1,-1,-1)  0.102065\n",
       "4  (-1,+1,+1)  0.095238\n",
       "5  (-1,+1,-1)  0.107767\n",
       "6  (-1,-1,+1)  0.034761\n",
       "7  (-1,-1,-1)  0.037515"
      ]
     },
     "metadata": {},
     "output_type": "display_data"
    },
    {
     "name": "stdout",
     "output_type": "stream",
     "text": [
      "\n",
      "────────────────────────────────────────────────────────────\n",
      "Solver Status\n",
      "────────────────────────────────────────────────────────────\n",
      "Optimization terminated successfully. (HiGHS Status 7: Optimal)\n",
      "\n",
      "────────────────────────────────────────────────────────────\n",
      "Optimal Initial Portfolio x0*\n",
      "────────────────────────────────────────────────────────────\n"
     ]
    },
    {
     "data": {
      "text/plain": [
       "Stocks         -9.0\n",
       "Bonds          10.0\n",
       "Commodities    10.0\n",
       "Cash          -10.0\n",
       "dtype: float64"
      ]
     },
     "metadata": {},
     "output_type": "display_data"
    },
    {
     "name": "stdout",
     "output_type": "stream",
     "text": [
      "\n",
      "────────────────────────────────────────────────────────────\n",
      "Scenario‑Specific Rebalancing x1*\n",
      "────────────────────────────────────────────────────────────\n"
     ]
    },
    {
     "data": {
      "application/vnd.microsoft.datawrangler.viewer.v0+json": {
       "columns": [
        {
         "name": "index",
         "rawType": "object",
         "type": "string"
        },
        {
         "name": "Stocks",
         "rawType": "float64",
         "type": "float"
        },
        {
         "name": "Bonds",
         "rawType": "float64",
         "type": "float"
        },
        {
         "name": "Commodities",
         "rawType": "float64",
         "type": "float"
        },
        {
         "name": "Cash",
         "rawType": "float64",
         "type": "float"
        }
       ],
       "conversionMethod": "pd.DataFrame",
       "ref": "840ba564-2a67-499f-bde7-0b21b4485f28",
       "rows": [
        [
         "(+1,+1,+1)",
         "10.0",
         "10.0",
         "10.0",
         "-1.387300011499322"
        ],
        [
         "(+1,+1,-1)",
         "8.088304352352903",
         "10.0",
         "10.0",
         "-10.0"
        ],
        [
         "(+1,-1,+1)",
         "10.0",
         "10.0",
         "10.0",
         "-7.619649790953767"
        ],
        [
         "(+1,-1,-1)",
         "10.0",
         "1.8559545728984597",
         "10.0",
         "-10.0"
        ],
        [
         "(-1,+1,+1)",
         "10.0",
         "10.0",
         "10.0",
         "3.6710708149512237"
        ],
        [
         "(-1,+1,-1)",
         "10.0",
         "10.0",
         "10.0",
         "-6.853324821196548"
        ],
        [
         "(-1,-1,+1)",
         "10.0",
         "10.0",
         "10.0",
         "-2.561278964503221"
        ],
        [
         "(-1,-1,-1)",
         "6.914325399349007",
         "10.0",
         "10.0",
         "-10.0"
        ]
       ],
       "shape": {
        "columns": 4,
        "rows": 8
       }
      },
      "text/html": [
       "<div>\n",
       "<style scoped>\n",
       "    .dataframe tbody tr th:only-of-type {\n",
       "        vertical-align: middle;\n",
       "    }\n",
       "\n",
       "    .dataframe tbody tr th {\n",
       "        vertical-align: top;\n",
       "    }\n",
       "\n",
       "    .dataframe thead th {\n",
       "        text-align: right;\n",
       "    }\n",
       "</style>\n",
       "<table border=\"1\" class=\"dataframe\">\n",
       "  <thead>\n",
       "    <tr style=\"text-align: right;\">\n",
       "      <th></th>\n",
       "      <th>Stocks</th>\n",
       "      <th>Bonds</th>\n",
       "      <th>Commodities</th>\n",
       "      <th>Cash</th>\n",
       "    </tr>\n",
       "  </thead>\n",
       "  <tbody>\n",
       "    <tr>\n",
       "      <th>(+1,+1,+1)</th>\n",
       "      <td>10.000000</td>\n",
       "      <td>10.000000</td>\n",
       "      <td>10.0</td>\n",
       "      <td>-1.387300</td>\n",
       "    </tr>\n",
       "    <tr>\n",
       "      <th>(+1,+1,-1)</th>\n",
       "      <td>8.088304</td>\n",
       "      <td>10.000000</td>\n",
       "      <td>10.0</td>\n",
       "      <td>-10.000000</td>\n",
       "    </tr>\n",
       "    <tr>\n",
       "      <th>(+1,-1,+1)</th>\n",
       "      <td>10.000000</td>\n",
       "      <td>10.000000</td>\n",
       "      <td>10.0</td>\n",
       "      <td>-7.619650</td>\n",
       "    </tr>\n",
       "    <tr>\n",
       "      <th>(+1,-1,-1)</th>\n",
       "      <td>10.000000</td>\n",
       "      <td>1.855955</td>\n",
       "      <td>10.0</td>\n",
       "      <td>-10.000000</td>\n",
       "    </tr>\n",
       "    <tr>\n",
       "      <th>(-1,+1,+1)</th>\n",
       "      <td>10.000000</td>\n",
       "      <td>10.000000</td>\n",
       "      <td>10.0</td>\n",
       "      <td>3.671071</td>\n",
       "    </tr>\n",
       "    <tr>\n",
       "      <th>(-1,+1,-1)</th>\n",
       "      <td>10.000000</td>\n",
       "      <td>10.000000</td>\n",
       "      <td>10.0</td>\n",
       "      <td>-6.853325</td>\n",
       "    </tr>\n",
       "    <tr>\n",
       "      <th>(-1,-1,+1)</th>\n",
       "      <td>10.000000</td>\n",
       "      <td>10.000000</td>\n",
       "      <td>10.0</td>\n",
       "      <td>-2.561279</td>\n",
       "    </tr>\n",
       "    <tr>\n",
       "      <th>(-1,-1,-1)</th>\n",
       "      <td>6.914325</td>\n",
       "      <td>10.000000</td>\n",
       "      <td>10.0</td>\n",
       "      <td>-10.000000</td>\n",
       "    </tr>\n",
       "  </tbody>\n",
       "</table>\n",
       "</div>"
      ],
      "text/plain": [
       "               Stocks      Bonds  Commodities       Cash\n",
       "(+1,+1,+1)  10.000000  10.000000         10.0  -1.387300\n",
       "(+1,+1,-1)   8.088304  10.000000         10.0 -10.000000\n",
       "(+1,-1,+1)  10.000000  10.000000         10.0  -7.619650\n",
       "(+1,-1,-1)  10.000000   1.855955         10.0 -10.000000\n",
       "(-1,+1,+1)  10.000000  10.000000         10.0   3.671071\n",
       "(-1,+1,-1)  10.000000  10.000000         10.0  -6.853325\n",
       "(-1,-1,+1)  10.000000  10.000000         10.0  -2.561279\n",
       "(-1,-1,-1)   6.914325  10.000000         10.0 -10.000000"
      ]
     },
     "metadata": {},
     "output_type": "display_data"
    },
    {
     "name": "stdout",
     "output_type": "stream",
     "text": [
      "\n",
      "────────────────────────────────────────────────────────────\n",
      "Expected Final Wealth  E[V₍₂₀₎]  = 55.46  (per $1 initial wealth)\n",
      "────────────────────────────────────────────────────────────\n"
     ]
    }
   ],
   "source": [
    "\"\"\"\n",
    "Bayesian Two‑Stage Stochastic Portfolio Optimisation\n",
    "– implements exactly the research workflow we discussed\n",
    "————————————————————————————————————————————\n",
    "• Part‑A parameters (μ̂ & Σ̂) hard‑coded\n",
    "• 8 scenarios = up/down on the three risky assets\n",
    "• simulate 10 y returns under a chosen “true” scenario\n",
    "• Bayesian update → posterior π₁₀\n",
    "• build & solve a two‑stage stochastic LP (shorting allowed)\n",
    "————————————————————————————————————————————\n",
    "\"\"\"\n",
    "\n",
    "import numpy as np\n",
    "import pandas as pd\n",
    "from scipy.optimize import linprog\n",
    "\n",
    "# ───────────────────────────────────────────────\n",
    "# 0. Helper pretty‑print\n",
    "# ───────────────────────────────────────────────\n",
    "def print_bar(title):\n",
    "    print(\"\\n\" + \"─\" * 60)\n",
    "    print(title)\n",
    "    print(\"─\" * 60)\n",
    "\n",
    "# ───────────────────────────────────────────────\n",
    "# 1. Part‑A statistical parameters\n",
    "# ───────────────────────────────────────────────\n",
    "assets = [\"Stocks\", \"Bonds\", \"Commodities\", \"Cash\"]\n",
    "mu_hat = np.array([0.038, 0.050, 0.113, 0.001])       # annual expected returns\n",
    "Sigma_hat = np.array([[ 0.070, -0.007,  0.015,  0.003],\n",
    "                      [-0.007,  0.033, -0.012,  0.001],\n",
    "                      [ 0.015, -0.012,  0.098, -0.001],\n",
    "                      [ 0.003,  0.001, -0.001,  0.001]])\n",
    "\n",
    "# ───────────────────────────────────────────────\n",
    "# 2. Build eight scenarios\n",
    "# ───────────────────────────────────────────────\n",
    "delta = 0.02                       # ↑/↓ shift in expected return (±2 pp)\n",
    "states = [(e, b, c)                # 1 = up, −1 = down\n",
    "          for e in [1, -1]\n",
    "          for b in [1, -1]\n",
    "          for c in [1, -1]]\n",
    "labels = [f\"({e:+},{b:+},{c:+})\" for (e, b, c) in states]\n",
    "\n",
    "def scenario_mu(e, b, c):\n",
    "    mu = mu_hat.copy()\n",
    "    mu[0] += e * delta             # Stocks\n",
    "    mu[1] += b * delta             # Bonds\n",
    "    mu[2] += c * delta             # Commodities\n",
    "    return mu\n",
    "\n",
    "mu_scen = np.array([scenario_mu(*abc) for abc in states])  # shape (8,4)\n",
    "\n",
    "print_bar(\"Scenario Mean Return Matrix (annual)\")\n",
    "display(pd.DataFrame(mu_scen, index=labels, columns=assets))\n",
    "\n",
    "# ───────────────────────────────────────────────\n",
    "# 3. Simulate 10 years of returns under a “true” scenario\n",
    "# ───────────────────────────────────────────────\n",
    "np.random.seed(42)\n",
    "true_scen_id = 0                          # choose scenario 0 == (+,+,+)\n",
    "T = 10\n",
    "\n",
    "returns_path = np.random.multivariate_normal(\n",
    "    mean=mu_scen[true_scen_id], cov=Sigma_hat, size=T\n",
    ")\n",
    "print_bar(\"Simulated 10‑Year Annual Returns (sample)\")\n",
    "display(pd.DataFrame(returns_path, columns=assets).head())\n",
    "\n",
    "# ───────────────────────────────────────────────\n",
    "# 4. Bayesian posterior after 10 years\n",
    "# ───────────────────────────────────────────────\n",
    "inv_Sigma = np.linalg.inv(Sigma_hat)\n",
    "\n",
    "def log_mvn_pdf(r, mean):\n",
    "    diff = r - mean\n",
    "    return -0.5 * diff @ inv_Sigma @ diff   # constant term cancels in Bayes ratio\n",
    "\n",
    "log_like = np.zeros(8)\n",
    "for s in range(8):\n",
    "    for r in returns_path:\n",
    "        log_like[s] += log_mvn_pdf(r, mu_scen[s])\n",
    "# stabilise\n",
    "log_like -= log_like.max()\n",
    "weights = np.exp(log_like)\n",
    "posterior = weights / weights.sum()\n",
    "\n",
    "print_bar(\"Posterior Probabilities π₁₀(s)\")\n",
    "display(pd.DataFrame({\"Scenario\": labels, \"π10\": posterior}))\n",
    "\n",
    "# ───────────────────────────────────────────────\n",
    "# 5. Build & solve the two‑stage stochastic LP\n",
    "# ───────────────────────────────────────────────\n",
    "V0 = 1.0               # normalise initial wealth\n",
    "S10 = 0.0              # no extra deposit\n",
    "\n",
    "# deterministic 10‑y factors:  (1+μ)^10 − 1  ≈ cumulative return\n",
    "R0 = (1 + mu_scen) ** 10 - 1\n",
    "R1 = R0.copy()         # same expectation for 2nd decade\n",
    "\n",
    "# Decision variables: x0 (4) + x1 (8×4)\n",
    "n_var = 4 + 8 * 4\n",
    "\n",
    "# objective coefficients   c_i = π(s)*(1+R1)\n",
    "c = np.zeros(n_var)\n",
    "for s in range(8):\n",
    "    for i in range(4):\n",
    "        idx = 4 + s * 4 + i\n",
    "        c[idx] = posterior[s] * (1 + R1[s, i])\n",
    "# maximise → minimise negative\n",
    "c_min = -c\n",
    "\n",
    "# Equality constraints\n",
    "A_eq = []\n",
    "b_eq = []\n",
    "\n",
    "# (i) initial budget\n",
    "row = np.zeros(n_var)\n",
    "row[:4] = 1\n",
    "A_eq.append(row)\n",
    "b_eq.append(V0)\n",
    "\n",
    "# (ii) scenario budgets\n",
    "for s in range(8):\n",
    "    row = np.zeros(n_var)\n",
    "    # Σ x1 = Σ x0 * (1+R0)\n",
    "    row[4 + s * 4 : 4 + s * 4 + 4] = 1\n",
    "    row[:4] -= (1 + R0[s])\n",
    "    A_eq.append(row)\n",
    "    b_eq.append(S10)\n",
    "\n",
    "A_eq = np.array(A_eq)\n",
    "b_eq = np.array(b_eq)\n",
    "\n",
    "# Bounds: allow shorting (wide range to avoid unbounded problem explosion)\n",
    "bounds = [(-10, 10)] * n_var\n",
    "\n",
    "res = linprog(c_min, A_eq=A_eq, b_eq=b_eq, bounds=bounds, method=\"highs\")\n",
    "\n",
    "print_bar(\"Solver Status\")\n",
    "print(res.message)\n",
    "\n",
    "x0_opt = res.x[:4]\n",
    "x1_opt = res.x[4:].reshape(8, 4)\n",
    "exp_final_wealth = -res.fun\n",
    "\n",
    "print_bar(\"Optimal Initial Portfolio x0*\")\n",
    "display(pd.Series(x0_opt, index=assets))\n",
    "\n",
    "print_bar(\"Scenario‑Specific Rebalancing x1*\")\n",
    "df_x1 = pd.DataFrame(x1_opt, index=labels, columns=assets)\n",
    "display(df_x1)  # show first few\n",
    "\n",
    "print_bar(f\"Expected Final Wealth  E[V₍₂₀₎]  = {exp_final_wealth:,.2f}  (per $1 initial wealth)\")\n",
    "\n"
   ]
  },
  {
   "cell_type": "code",
   "execution_count": null,
   "metadata": {},
   "outputs": [],
   "source": []
  }
 ],
 "metadata": {
  "kernelspec": {
   "display_name": "Python 3",
   "language": "python",
   "name": "python3"
  },
  "language_info": {
   "codemirror_mode": {
    "name": "ipython",
    "version": 3
   },
   "file_extension": ".py",
   "mimetype": "text/x-python",
   "name": "python",
   "nbconvert_exporter": "python",
   "pygments_lexer": "ipython3",
   "version": "3.12.3"
  }
 },
 "nbformat": 4,
 "nbformat_minor": 2
}
