{
 "cells": [
  {
   "cell_type": "code",
   "execution_count": 7,
   "metadata": {},
   "outputs": [
    {
     "name": "stdout",
     "output_type": "stream",
     "text": [
      "Optimal x0*  : {'Stocks': -9.0, 'Bonds': 10.0, 'Commodities': 10.0, 'Cash': -10.0}\n",
      "Expected V_20: 56.52 (per $1 initial)\n"
     ]
    }
   ],
   "source": [
    "import numpy as np\n",
    "import pandas as pd\n",
    "from  scipy.optimize import linprog\n",
    "\n",
    "# ─────────────────────────────────────\n",
    "# 1. 기본 파라미터 + 자산 기대수익/공분산\n",
    "# ─────────────────────────────────────\n",
    "assets   = [\"Stocks\",\"Bonds\",\"Commodities\",\"Cash\"]\n",
    "mu_hat   = np.array([0.038,0.050,0.113,0.001])\n",
    "Sigma_hat= np.array([[ 0.070,-0.007,0.015, 0.003],\n",
    "                     [-0.007, 0.033,-0.012, 0.001],\n",
    "                     [ 0.015,-0.012,0.098,-0.001],\n",
    "                     [ 0.003, 0.001,-0.001,0.001]])\n",
    "V0_abs   = 550_000                               # 초기자산($)\n",
    "V0       = 1.0                                   # 정규화 단위\n",
    "\n",
    "# ─────────────────────────────────────\n",
    "# 2. ‘저축 = 19 200·1.03^t’  => 10년·20년 말 현가 계산\n",
    "# ─────────────────────────────────────\n",
    "save0, g, rf = 19_200, 0.03, 0.001               # rf : 현금 기대수익\n",
    "# t=0…9 불입 → 10년말 가치\n",
    "S_0_9 = sum(save0*(1+g)**t * (1+rf)**(10-t) for t in range(10))\n",
    "# t=10 불입(리밸런스 시점)\n",
    "S10   = save0*(1+g)**10                         \n",
    "S10_tot = (S_0_9 + S10)/V0_abs                   # 10 년말 추가 자금 (정규화)\n",
    "# t=11…19 불입 → 20년말 가치 (리스크-프리라 가정; 결정변수에 영향 없음)\n",
    "S_11_19 = sum(save0*(1+g)**t * (1+rf)**(20-t) for t in range(11,20))\n",
    "S_fin   = S_11_19/V0_abs                         # 20 년말 상수항\n",
    "\n",
    "# ─────────────────────────────────────\n",
    "# 3. 8개 시나리오(±2 %p 상·하) 구축\n",
    "# ─────────────────────────────────────\n",
    "delta = 0.02\n",
    "states = [(e,b,c) for e in [1,-1] for b in [1,-1] for c in [1,-1]]\n",
    "mu_scen = np.array([mu_hat + delta*np.array([e,b,c,0]) for (e,b,c) in states])\n",
    "π0 = np.full(8, 1/8)\n",
    "\n",
    "# ─────────────────────────────────────\n",
    "# 4. (예시) 시나리오 0에서 10년 수익률 시뮬레이션 → Bayes 업데이트\n",
    "# ─────────────────────────────────────\n",
    "np.random.seed(42)\n",
    "true_id = 0\n",
    "Rpath = np.random.multivariate_normal(mu_scen[true_id], Sigma_hat, 10)\n",
    "Σinv   = np.linalg.inv(Sigma_hat)\n",
    "logL   = np.array([sum(-0.5*(r-μ)@Σinv@(r-μ) for r in Rpath) for μ in mu_scen])\n",
    "post   = np.exp(logL-logL.max()); post /= post.sum()        # π₁₀\n",
    "\n",
    "# ─────────────────────────────────────\n",
    "# 5. 2-단계 LP (저축 포함)\n",
    "# ─────────────────────────────────────\n",
    "R0 = (1+mu_scen)**10 - 1          # 0-10년 누적\n",
    "R1 = R0.copy()                    # 10-20년 누적(평균 동일 가정)\n",
    "\n",
    "nvar = 4 + 8*4                    # x0 + x1^{(s)}\n",
    "c    = np.zeros(nvar)\n",
    "for s in range(8):\n",
    "    for i in range(4):\n",
    "        c[4+s*4+i] = post[s]*(1+R1[s,i])\n",
    "c_min = -c                        # linprog는 최소화\n",
    "\n",
    "Aeq, beq = [], []\n",
    "\n",
    "# (i) 초기 예산\n",
    "row = np.zeros(nvar); row[:4] = 1\n",
    "Aeq.append(row);  beq.append(V0)\n",
    "\n",
    "# (ii) 시나리오별 10년-말 예산   Σx1 = Σx0·(1+R0) + S10_tot\n",
    "for s in range(8):\n",
    "    row = np.zeros(nvar)\n",
    "    row[4+s*4:4+s*4+4] = 1\n",
    "    row[:4] -= (1+R0[s])\n",
    "    Aeq.append(row); beq.append(S10_tot)\n",
    "\n",
    "Aeq, beq = np.array(Aeq), np.array(beq)\n",
    "bounds = [(-10,10)]*nvar          # 숏·레버리지 허용\n",
    "\n",
    "res = linprog(c_min, A_eq=Aeq, b_eq=beq, bounds=bounds, method=\"highs\")\n",
    "x0_opt = res.x[:4]\n",
    "x1_opt = res.x[4:].reshape(8,4)\n",
    "E_V20  = -res.fun + S_fin          # 20년-말 상수 저축분 더하기\n",
    "\n",
    "print(\"Optimal x0*  :\", dict(zip(assets, x0_opt.round(3))))\n",
    "print(\"Expected V_20:\", round(E_V20,2), \"(per $1 initial)\")\n"
   ]
  },
  {
   "cell_type": "code",
   "execution_count": 10,
   "metadata": {},
   "outputs": [
    {
     "data": {
      "text/plain": [
       "['Stocks', 'Bonds', 'Commodities', 'Cash']"
      ]
     },
     "execution_count": 10,
     "metadata": {},
     "output_type": "execute_result"
    }
   ],
   "source": [
    "assets"
   ]
  },
  {
   "cell_type": "code",
   "execution_count": null,
   "metadata": {},
   "outputs": [],
   "source": []
  },
  {
   "cell_type": "markdown",
   "metadata": {},
   "source": [
    "# 연금\n",
    "8년 뒤\n",
    "일은 5년 \n",
    "아빠: 97만원, 엄마: 67만원. 인플레이션 2%\n",
    "월세까지 600. + 164만원\n",
    "1억\n",
    "소비\n",
    "종합보험: -50만원\n",
    "의료보험: -35만원\n",
    "한달에 -400만원\n",
    "\n",
    "100살까지 산다고 가정\n",
    "\n",
    "10년 저축 + 한달에 300만원 저축\n",
    "\n",
    "prosperity = 1억 + 국민연금 + 월세 - 소비 해서 "
   ]
  },
  {
   "cell_type": "code",
   "execution_count": null,
   "metadata": {},
   "outputs": [],
   "source": [
    "\n"
   ]
  }
 ],
 "metadata": {
  "kernelspec": {
   "display_name": "Python 3",
   "language": "python",
   "name": "python3"
  },
  "language_info": {
   "codemirror_mode": {
    "name": "ipython",
    "version": 3
   },
   "file_extension": ".py",
   "mimetype": "text/x-python",
   "name": "python",
   "nbconvert_exporter": "python",
   "pygments_lexer": "ipython3",
   "version": "3.12.3"
  }
 },
 "nbformat": 4,
 "nbformat_minor": 2
}
